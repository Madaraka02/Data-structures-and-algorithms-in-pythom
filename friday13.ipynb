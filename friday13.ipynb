{
  "nbformat": 4,
  "nbformat_minor": 0,
  "metadata": {
    "colab": {
      "name": "friday13.ipynb",
      "provenance": [],
      "collapsed_sections": [],
      "authorship_tag": "ABX9TyOSl6C85Yv1MFtULl9CIwpq",
      "include_colab_link": true
    },
    "kernelspec": {
      "name": "python3",
      "display_name": "Python 3"
    },
    "language_info": {
      "name": "python"
    }
  },
  "cells": [
    {
      "cell_type": "markdown",
      "metadata": {
        "id": "view-in-github",
        "colab_type": "text"
      },
      "source": [
        "<a href=\"https://colab.research.google.com/github/Madaraka02/Data-structures-and-algorithms-in-pythom/blob/main/friday13.ipynb\" target=\"_parent\"><img src=\"https://colab.research.google.com/assets/colab-badge.svg\" alt=\"Open In Colab\"/></a>"
      ]
    },
    {
      "cell_type": "code",
      "execution_count": 67,
      "metadata": {
        "colab": {
          "base_uri": "https://localhost:8080/"
        },
        "id": "P3nFIj5Tg9xN",
        "outputId": "27f8b163-d729-4b43-cec2-37407392d614"
      },
      "outputs": [
        {
          "output_type": "stream",
          "name": "stdout",
          "text": [
            "2020-03-13\n",
            "2020-11-13\n"
          ]
        }
      ],
      "source": [
        "from datetime import date, timedelta,datetime\n",
        "import calendar\n",
        "\n",
        "\n",
        "def allFridays(year):\n",
        "   d = date(year, 1, 1)       # January 1st\n",
        "   d += timedelta(days = (4 - d.weekday() + 7))  # First friday if the year\n",
        "   while d.year == year:\n",
        "      yield d\n",
        "      d += timedelta(days = 7)\n",
        "\n",
        "for d in allFridays(2020):\n",
        "  # print (calendar.monthrange(int(d.strftime(\"%Y\")), int(d.strftime(\"%m\")))[1])\n",
        "  # print(d) \n",
        "  day = int(d.strftime(\"%d\"))\n",
        "  # print(day)\n",
        "  year = d.strftime(\"%Y\")\n",
        "  month = d.strftime(\"%m\")\n",
        "  # print(year, month)\n",
        "  if day == 13:\n",
        "    print(d)\n",
        "    \n"
      ]
    },
    {
      "cell_type": "code",
      "source": [
        "thisXMas    = date(2022,5,25)\n",
        "\n",
        "thisXMasDay = thisXMas.weekday()\n",
        "thisXMasDay"
      ],
      "metadata": {
        "colab": {
          "base_uri": "https://localhost:8080/"
        },
        "id": "u1a1S5DihH2n",
        "outputId": "538dfa02-0d0b-44f5-a0a6-27b68c4b6fc9"
      },
      "execution_count": 48,
      "outputs": [
        {
          "output_type": "execute_result",
          "data": {
            "text/plain": [
              "2"
            ]
          },
          "metadata": {},
          "execution_count": 48
        }
      ]
    },
    {
      "cell_type": "code",
      "source": [
        "# 0:Monday\n",
        "# 1:Tuesday\n",
        "# 2:Wednesday\n",
        "# 3:Thursday\n",
        "# 4:Friday\n",
        "# 5:Saturday\n",
        "# 6:Sunday"
      ],
      "metadata": {
        "id": "8rEiKwVXiuGH"
      },
      "execution_count": 69,
      "outputs": []
    },
    {
      "cell_type": "code",
      "source": [
        "date.today()"
      ],
      "metadata": {
        "colab": {
          "base_uri": "https://localhost:8080/"
        },
        "id": "el-pSC1fjnU6",
        "outputId": "c3fdb718-9f91-4fe6-80fd-cf66b29fd0c4"
      },
      "execution_count": 10,
      "outputs": [
        {
          "output_type": "execute_result",
          "data": {
            "text/plain": [
              "datetime.date(2022, 5, 25)"
            ]
          },
          "metadata": {},
          "execution_count": 10
        }
      ]
    },
    {
      "cell_type": "code",
      "source": [
        "from calendar import monthrange\n",
        "num_days = monthrange(2019, 2) # num_days = 28\n",
        "print(num_days) # Prints 28"
      ],
      "metadata": {
        "colab": {
          "base_uri": "https://localhost:8080/"
        },
        "id": "Cf_nIvp_jp_l",
        "outputId": "05951824-3a23-4917-e4cf-1fbde6a2055a"
      },
      "execution_count": 68,
      "outputs": [
        {
          "output_type": "stream",
          "name": "stdout",
          "text": [
            "(4, 28)\n"
          ]
        }
      ]
    },
    {
      "cell_type": "code",
      "source": [
        ""
      ],
      "metadata": {
        "id": "u-UGzN5yrsIW"
      },
      "execution_count": null,
      "outputs": []
    }
  ]
}